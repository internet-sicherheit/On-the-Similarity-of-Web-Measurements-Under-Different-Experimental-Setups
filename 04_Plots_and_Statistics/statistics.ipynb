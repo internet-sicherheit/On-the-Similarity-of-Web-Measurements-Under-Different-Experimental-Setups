{
 "cells": [
  {
   "cell_type": "markdown",
   "metadata": {},
   "source": [
    "## Implications of Site Popularity"
   ]
  },
  {
   "attachments": {},
   "cell_type": "markdown",
   "metadata": {},
   "source": [
    "### Node count vs. rank"
   ]
  },
  {
   "cell_type": "code",
   "execution_count": 1,
   "metadata": {},
   "outputs": [
    {
     "name": "stdout",
     "output_type": "stream",
     "text": [
      "KruskalResult(statistic=395.3066132009497, pvalue=2.8731308925763685e-84)\n"
     ]
    }
   ],
   "source": [
    "import pandas as pd\n",
    "from scipy.stats import kruskal\n",
    "import os\n",
    "\n",
    "path = os.getcwd() + \"/datasets/stat_test/nodeCount_rank.csv\"\n",
    "df = pd.read_csv(path)\n",
    "\n",
    "# Group the data by rank_bucket to feed into the Kruskal-Wallis test\n",
    "data_groups = [df['node_count'][df['rank_bucket'] == group] for group in df['rank_bucket'].unique()]\n",
    "\n",
    "result = kruskal(*data_groups)\n",
    "\n",
    "print(result)\n"
   ]
  },
  {
   "cell_type": "code",
   "execution_count": 3,
   "metadata": {},
   "outputs": [
    {
     "name": "stdout",
     "output_type": "stream",
     "text": [
      "Kruskal-Wallis H-statistic: 9277.995204838822\n",
      "Kruskal-Wallis p-value: 0.0\n",
      "Epsilon-squared: 0.001574842966253196\n"
     ]
    }
   ],
   "source": [
    "import pandas as pd\n",
    "from scipy.stats import kruskal\n",
    "import os\n",
    "\n",
    "path = os.getcwd() + \"/datasets/stat_test/childrenSim_rank.csv\"\n",
    "df = pd.read_csv(path)\n",
    "\n",
    "# Group the data by rank_bucket to feed into the Kruskal-Wallis test\n",
    "unique_groups = df['rank_bucket'].unique()\n",
    "groups = [df[df['rank_bucket'] == group]['sim_all'] for group in unique_groups]\n",
    "\n",
    "result = kruskal(*groups)\n",
    "\n",
    "# Calculate epsilon-squared (for effect size)\n",
    "epsilon_squared = result.statistic / (len(df) - 1)\n",
    "\n",
    "print(f\"Kruskal-Wallis H-statistic: {result.statistic}\")\n",
    "print(f\"Kruskal-Wallis p-value: {result.pvalue}\")\n",
    "print(f\"Epsilon-squared: {epsilon_squared}\")\n"
   ]
  },
  {
   "cell_type": "code",
   "execution_count": 4,
   "metadata": {},
   "outputs": [
    {
     "name": "stdout",
     "output_type": "stream",
     "text": [
      "KruskalResult(statistic=216.7278518858997, pvalue=9.484599954085243e-46)\n"
     ]
    }
   ],
   "source": [
    "import pandas as pd\n",
    "from scipy.stats import kruskal\n",
    "import os\n",
    "\n",
    "path = os.getcwd() + \"/datasets/stat_test/tracker_rank.csv\"\n",
    "df = pd.read_csv(path)\n",
    "\n",
    "# Group the data by rank_bucket to feed into the Kruskal-Wallis test\n",
    "data_groups = [df['node_count'][df['rank_bucket'] == group] for group in df['rank_bucket'].unique()]\n",
    "\n",
    "result = kruskal(*data_groups)\n",
    "\n",
    "print(result)\n"
   ]
  },
  {
   "attachments": {},
   "cell_type": "markdown",
   "metadata": {},
   "source": [
    "### Sim of children vs rank"
   ]
  },
  {
   "cell_type": "code",
   "execution_count": 5,
   "metadata": {},
   "outputs": [
    {
     "name": "stdout",
     "output_type": "stream",
     "text": [
      "KruskalResult(statistic=9277.995204838822, pvalue=0.0)\n"
     ]
    }
   ],
   "source": [
    "import pandas as pd\n",
    "from scipy.stats import kruskal\n",
    "import os\n",
    "\n",
    "path = os.getcwd() + \"/datasets/stat_test/childrenSim_rank.csv\"\n",
    "df = pd.read_csv(path)\n",
    "\n",
    "# Group the data by rank_bucket to feed into the Kruskal-Wallis test\n",
    "data_groups = [df['sim_all'][df['rank_bucket'] == group] for group in df['rank_bucket'].unique()]\n",
    "\n",
    "result = kruskal(*data_groups)\n",
    "\n",
    "print(result)\n"
   ]
  },
  {
   "cell_type": "code",
   "execution_count": 7,
   "metadata": {},
   "outputs": [
    {
     "name": "stdout",
     "output_type": "stream",
     "text": [
      "KruskalResult(statistic=162782.07086873578, pvalue=0.0)\n"
     ]
    }
   ],
   "source": [
    "import pandas as pd\n",
    "from scipy.stats import kruskal\n",
    "import os\n",
    "\n",
    "path = os.getcwd() + \"/datasets/stat_test/parentSim_rank.zip\"\n",
    "df = pd.read_csv(path)\n",
    "\n",
    "# Group the data by rank_bucket to feed into the Kruskal-Wallis test\n",
    "data_groups = [df['eval_all'][df['rank_bucket'] == group] for group in df['rank_bucket'].unique()]\n",
    "\n",
    "result = kruskal(*data_groups)\n",
    "\n",
    "print(result)\n"
   ]
  },
  {
   "attachments": {},
   "cell_type": "markdown",
   "metadata": {},
   "source": [
    "## S.4 thirdParty_sim\n",
    "\n"
   ]
  },
  {
   "cell_type": "code",
   "execution_count": 12,
   "metadata": {},
   "outputs": [
    {
     "name": "stdout",
     "output_type": "stream",
     "text": [
      "t = 1794.811, p = 0.000\n"
     ]
    }
   ],
   "source": [
    "import pandas as pd\n",
    "from scipy.stats import ttest_rel\n",
    "import os\n",
    "\n",
    "path = os.getcwd() + \"/datasets/stat_test/s4.thirdParty_sim.zip\"\n",
    "\n",
    "df = pd.read_csv(path)\n",
    "\n",
    "# Perform the paired t-test\n",
    "t, p = ttest_rel(df['is_third_party'], df['eval_all'])\n",
    "\n",
    "# Print the results\n",
    "print(f\"t = {t:.3f}, p = {p:.3f}\")\n"
   ]
  },
  {
   "attachments": {},
   "cell_type": "markdown",
   "metadata": {},
   "source": [
    "## S.5 simVSchildrenCount"
   ]
  },
  {
   "cell_type": "code",
   "execution_count": 15,
   "metadata": {},
   "outputs": [
    {
     "name": "stdout",
     "output_type": "stream",
     "text": [
      "Wilcoxon signed-rank test: p = 0.000\n"
     ]
    }
   ],
   "source": [
    "# Wilcoxon signed-rank test\n",
    "import pandas as pd\n",
    "from scipy.stats import wilcoxon\n",
    "\n",
    "path = os.getcwd() + \"/datasets/stat_test/s5.simVSchildrenCount.zip\"\n",
    "\n",
    "df = pd.read_csv(path)\n",
    "\n",
    "# Perform the Wilcoxon signed-rank test, since our data are not normally distributed \n",
    "_, p = wilcoxon(df['ct_avg_all'], df['sim_all'])\n",
    "\n",
    "# Print the results\n",
    "print(f\"Wilcoxon signed-rank test: p = {p:.3f}\")\n"
   ]
  },
  {
   "attachments": {},
   "cell_type": "markdown",
   "metadata": {},
   "source": [
    "## S.6 interaction-desktopVStreeDepth\n"
   ]
  },
  {
   "cell_type": "code",
   "execution_count": 18,
   "metadata": {},
   "outputs": [
    {
     "name": "stdout",
     "output_type": "stream",
     "text": [
      "Statistics=128595468010247.500, p=0.000\n"
     ]
    }
   ],
   "source": [
    "import os\n",
    "import pandas as pd\n",
    "from scipy.stats import mannwhitneyu\n",
    "\n",
    "# Define the path\n",
    "path = os.getcwd() + \"/datasets/stat_test/s6.interaction-desktopVStreeDepth.zip\"\n",
    "\n",
    "# Load the data\n",
    "df = pd.read_csv(path, compression='zip')\n",
    "\n",
    "# Separate your dataframe into two groups\n",
    "group0 = df[df['f0_'] == 0]['tree_depth']\n",
    "group1 = df[df['f0_'] == 1]['tree_depth']\n",
    "\n",
    "# Perform the Mann-Whitney U test\n",
    "stat, p = mannwhitneyu(group0, group1)\n",
    "\n",
    "print('Statistics=%.3f, p=%.3f' % (stat, p))"
   ]
  },
  {
   "attachments": {},
   "cell_type": "markdown",
   "metadata": {},
   "source": [
    "## S.7 resource_type_sim_parent"
   ]
  },
  {
   "cell_type": "code",
   "execution_count": 17,
   "metadata": {},
   "outputs": [
    {
     "name": "stdout",
     "output_type": "stream",
     "text": [
      "Kruskal-Wallis test: p = 0.000\n"
     ]
    }
   ],
   "source": [
    "import pandas as pd\n",
    "from scipy.stats import kruskal\n",
    "\n",
    "path = os.getcwd() + \"/datasets/stat_test/s7_resource_type_sim_parent.csv\"\n",
    "\n",
    "df = pd.read_csv(path)\n",
    "\n",
    "# Perform the Kruskal-Wallis test\n",
    "_, p = kruskal(*[group['sim'] for name, group in df.groupby('resource_type')])\n",
    "\n",
    "# Print the results\n",
    "print(f\"Kruskal-Wallis test: p = {p:.3f}\")\n"
   ]
  },
  {
   "attachments": {},
   "cell_type": "markdown",
   "metadata": {},
   "source": [
    "## S.8 resource_type_sim_children"
   ]
  },
  {
   "cell_type": "code",
   "execution_count": 6,
   "metadata": {},
   "outputs": [
    {
     "data": {
      "text/html": [
       "<div>\n",
       "<style scoped>\n",
       "    .dataframe tbody tr th:only-of-type {\n",
       "        vertical-align: middle;\n",
       "    }\n",
       "\n",
       "    .dataframe tbody tr th {\n",
       "        vertical-align: top;\n",
       "    }\n",
       "\n",
       "    .dataframe thead th {\n",
       "        text-align: right;\n",
       "    }\n",
       "</style>\n",
       "<table border=\"1\" class=\"dataframe\">\n",
       "  <thead>\n",
       "    <tr style=\"text-align: right;\">\n",
       "      <th></th>\n",
       "      <th>sum_sq</th>\n",
       "      <th>df</th>\n",
       "      <th>F</th>\n",
       "      <th>PR(&gt;F)</th>\n",
       "    </tr>\n",
       "  </thead>\n",
       "  <tbody>\n",
       "    <tr>\n",
       "      <th>resource_type</th>\n",
       "      <td>39.544608</td>\n",
       "      <td>12.0</td>\n",
       "      <td>1347.049692</td>\n",
       "      <td>0.0</td>\n",
       "    </tr>\n",
       "    <tr>\n",
       "      <th>pct</th>\n",
       "      <td>58.728961</td>\n",
       "      <td>1.0</td>\n",
       "      <td>24006.558522</td>\n",
       "      <td>0.0</td>\n",
       "    </tr>\n",
       "    <tr>\n",
       "      <th>Residual</th>\n",
       "      <td>1290.179636</td>\n",
       "      <td>527385.0</td>\n",
       "      <td>NaN</td>\n",
       "      <td>NaN</td>\n",
       "    </tr>\n",
       "  </tbody>\n",
       "</table>\n",
       "</div>"
      ],
      "text/plain": [
       "                    sum_sq        df             F  PR(>F)\n",
       "resource_type    39.544608      12.0   1347.049692     0.0\n",
       "pct              58.728961       1.0  24006.558522     0.0\n",
       "Residual       1290.179636  527385.0           NaN     NaN"
      ]
     },
     "execution_count": 6,
     "metadata": {},
     "output_type": "execute_result"
    }
   ],
   "source": [
    "import pandas as pd\n",
    "from scipy.stats import f_oneway\n",
    "import os\n",
    "import statsmodels.api as sm\n",
    "from statsmodels.formula.api import ols\n",
    "\n",
    "path = os.getcwd() + \"/datasets/stat_test/s8_resource_type_sim_children.csv\"\n",
    "\n",
    "df = pd.read_csv(path)\n",
    "\n",
    "# resource_type,sim,f0_,pct\n",
    "\n",
    "model = ols('sim~resource_type+pct', data=df).fit()\n",
    "sm.stats.anova_lm(model, typ=2)\n"
   ]
  }
 ],
 "metadata": {
  "kernelspec": {
   "display_name": "Python 3.10.6 64-bit",
   "language": "python",
   "name": "python3"
  },
  "language_info": {
   "codemirror_mode": {
    "name": "ipython",
    "version": 3
   },
   "file_extension": ".py",
   "mimetype": "text/x-python",
   "name": "python",
   "nbconvert_exporter": "python",
   "pygments_lexer": "ipython3",
   "version": "3.8.0"
  },
  "orig_nbformat": 4,
  "vscode": {
   "interpreter": {
    "hash": "3196968d684371006099b3d55edeef8ed90365227a30deaef86e5d4aa8519be0"
   }
  }
 },
 "nbformat": 4,
 "nbformat_minor": 2
}
