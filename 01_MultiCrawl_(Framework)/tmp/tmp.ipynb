{
 "metadata": {
  "language_info": {
   "codemirror_mode": {
    "name": "ipython",
    "version": 3
   },
   "file_extension": ".py",
   "mimetype": "text/x-python",
   "name": "python",
   "nbconvert_exporter": "python",
   "pygments_lexer": "ipython3",
   "version": "3.8.0-final"
  },
  "orig_nbformat": 2,
  "kernelspec": {
   "name": "python3",
   "display_name": "Python 3.8.0 64-bit",
   "metadata": {
    "interpreter": {
     "hash": "6f556239abc3bdb1ddef4ea341de11d6a3c261e4b0365c492fdb53d25017b2fa"
    }
   }
  }
 },
 "nbformat": 4,
 "nbformat_minor": 2,
 "cells": [
  {
   "cell_type": "code",
   "execution_count": 1,
   "metadata": {},
   "outputs": [
    {
     "output_type": "error",
     "ename": "ModuleNotFoundError",
     "evalue": "No module named 'chrome_cookiejar'",
     "traceback": [
      "\u001b[1;31m---------------------------------------------------------------------------\u001b[0m",
      "\u001b[1;31mModuleNotFoundError\u001b[0m                       Traceback (most recent call last)",
      "\u001b[1;32m<ipython-input-1-7c6a1365582a>\u001b[0m in \u001b[0;36m<module>\u001b[1;34m\u001b[0m\n\u001b[1;32m----> 1\u001b[1;33m \u001b[1;32mfrom\u001b[0m \u001b[0mchrome_cookiejar\u001b[0m \u001b[1;32mimport\u001b[0m \u001b[0mChromeCookieJar\u001b[0m\u001b[1;33m\u001b[0m\u001b[1;33m\u001b[0m\u001b[0m\n\u001b[0m\u001b[0;32m      2\u001b[0m \u001b[0mcookiejar\u001b[0m \u001b[1;33m=\u001b[0m \u001b[0mChromeCookieJar\u001b[0m\u001b[1;33m(\u001b[0m\u001b[1;34mb'C:\\Users\\NurullahDemir\\Desktop\\Project\\Edu\\webMeasurements\\profiles\\chrome\\Default\\Cookies'\u001b[0m\u001b[1;33m)\u001b[0m  \u001b[1;31m# doctest: +SKIP\u001b[0m\u001b[1;33m\u001b[0m\u001b[1;33m\u001b[0m\u001b[0m\n",
      "\u001b[1;31mModuleNotFoundError\u001b[0m: No module named 'chrome_cookiejar'"
     ]
    }
   ],
   "source": [
    "\n",
    "from chrome_cookiejar import ChromeCookieJar\n",
    "cookiejar = ChromeCookieJar(b'C:\\Users\\NurullahDemir\\Desktop\\Project\\Edu\\webMeasurements\\profiles\\chrome\\Default\\Cookies')  # doctest: +SKIP\n"
   ]
  },
  {
   "cell_type": "code",
   "execution_count": null,
   "metadata": {},
   "outputs": [],
   "source": []
  }
 ]
}